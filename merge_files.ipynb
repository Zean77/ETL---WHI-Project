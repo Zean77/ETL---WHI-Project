{
 "cells": [
  {
   "cell_type": "code",
   "execution_count": null,
   "metadata": {},
   "outputs": [],
   "source": [
    "#Merging dataframes\n",
    "merged1 = pd.merge(clean_WDI_MP_df, happiness_df, on=\"stats_country\", how=\"outer\")\n",
    "merged2 = pd.merge(merge1, Saif_df, on=\"stats_country\", how=\"outer\")\n",
    "complete_df = pd.merge(merged2, Zean_df, on=\"stats_country\", how=\"outer\")"
   ]
  }
 ],
 "metadata": {
  "kernelspec": {
   "display_name": "Python [conda env:PythonData]",
   "language": "python",
   "name": "conda-env-PythonData-py"
  },
  "language_info": {
   "codemirror_mode": {
    "name": "ipython",
    "version": 3
   },
   "file_extension": ".py",
   "mimetype": "text/x-python",
   "name": "python",
   "nbconvert_exporter": "python",
   "pygments_lexer": "ipython3",
   "version": "3.6.10"
  }
 },
 "nbformat": 4,
 "nbformat_minor": 4
}
